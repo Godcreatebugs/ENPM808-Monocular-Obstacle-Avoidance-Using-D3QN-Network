{
 "cells": [
  {
   "cell_type": "code",
   "execution_count": 1,
   "metadata": {},
   "outputs": [],
   "source": [
    "# -*- coding: utf-8 -*-\n",
    "\"\"\"\n",
    "Created on Tue Nov 19 21:46:31 2019\n",
    "\n",
    "@author: Piyushkumar\n",
    "\"\"\"\n",
    "\n",
    "import tensorflow as tf \n",
    "import numpy as np \n",
    "import cv2\n",
    "import pickle\n",
    "import random\n",
    "import models\n",
    "import copy\n",
    "import time\n",
    "import math"
   ]
  },
  {
   "cell_type": "code",
   "execution_count": 2,
   "metadata": {},
   "outputs": [],
   "source": [
    "from PIL import Image\n",
    "\n",
    "import os\n",
    "\n",
    "os.environ['TF_CPP_MIN_LOG_LEVEL'] = '2'\n",
    "os.environ[\"CUDA_DEVICE_ORDER\"] = \"PCI_BUS_ID\"\n",
    "os.environ[\"CUDA_VISIBLE_DEVICES\"] = '0'\n",
    "\n",
    "CHANNEL = 3\n",
    "DEPTH_IMAGE_WIDTH = 160\n",
    "DEPTH_IMAGE_HEIGHT = 128\n",
    "RGB_IMAGE_WIDTH = 304\n",
    "RGB_IMAGE_HEIGHT = 228\n",
    "MAX_STEP = 200\n",
    "MAX_EPOCH = 150\n",
    "BATCH = 1"
   ]
  },
  {
   "cell_type": "code",
   "execution_count": 3,
   "metadata": {},
   "outputs": [],
   "source": [
    "def output_predict(predict, kinect, rgb, epoch, step):\n",
    "\tmax_val = 10.\n",
    "\tkinect[kinect>max_val] = max_val\n",
    "\tif np.max(kinect) != 0:\n",
    "\t\tkinect_save = (kinect/max_val)*255.0\n",
    "\t\t# print('kinect_max', np.amax(kinect))\n",
    "\telse:\n",
    "\t\tkinect_save = kinect*255.0\n",
    "\tkinect_save=np.uint8(kinect_save)\n",
    "\tname = \"data/%04d\" % epoch + \"_%04d_kinect.png\" % step\n",
    "\tcv2.imwrite(name,kinect_save)\n",
    "\n",
    "\tpredict[predict>max_val] = max_val\n",
    "\tif np.max(predict) != 0:\n",
    "\t\tpredict_save = (predict/max_val)*255.0\n",
    "\t\t# print('predict_max', np.amax(predict))\n",
    "\telse:\n",
    "\t\tpredict_save = predict*255.0\n",
    "\tpredict_save=np.uint8(predict_save)\n",
    "\tname = \"data/%04d\" % epoch + \"_%04d_predicted.png\" % step\n",
    "\tcv2.imwrite(name,predict_save)\n",
    "\n",
    "\tname = \"data/%04d\" % epoch + \"_%04d_rgb.png\" % step\n",
    "\tcv2.imwrite(name,rgb)\n"
   ]
  },
  {
   "cell_type": "code",
   "execution_count": 4,
   "metadata": {},
   "outputs": [],
   "source": [
    "def SetDiff(first, second):\n",
    "\tsecond = set(second)\n",
    "\treturn [item for item in first if item not in second]"
   ]
  },
  {
   "cell_type": "code",
   "execution_count": 5,
   "metadata": {},
   "outputs": [],
   "source": [
    "def normalize_rgb(rgb_images, value):\n",
    "\trgb_images = np.asarray(rgb_images).astype(float)\n",
    "\trgb_images /= 255.\n",
    "\tfor x in range(3):\n",
    "\t\trgb_images[:, :, :, x] -= value[x]\n",
    "\treturn rgb_images\n",
    "\n",
    "def consecutive_sample(data, start, end):\n",
    "\t# return a list\n",
    "\tpart = []\n",
    "\tfor x in range(start, end):\n",
    "\t\tpart.append(data[x])\n",
    "\treturn part"
   ]
  },
  {
   "cell_type": "code",
   "execution_count": null,
   "metadata": {},
   "outputs": [],
   "source": []
  }
 ],
 "metadata": {
  "kernelspec": {
   "display_name": "Python 3",
   "language": "python",
   "name": "python3"
  },
  "language_info": {
   "codemirror_mode": {
    "name": "ipython",
    "version": 3
   },
   "file_extension": ".py",
   "mimetype": "text/x-python",
   "name": "python",
   "nbconvert_exporter": "python",
   "pygments_lexer": "ipython3",
   "version": "3.6.6"
  }
 },
 "nbformat": 4,
 "nbformat_minor": 2
}
